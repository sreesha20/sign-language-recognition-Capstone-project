{
 "cells": [
  {
   "cell_type": "code",
   "execution_count": 1,
   "metadata": {},
   "outputs": [],
   "source": [
    "# Setup paths for trained model etc\n",
    "WORKSPACE_PATH = 'Tensorflow/workspace'\n",
    "SCRIPTS_PATH = 'Tensorflow/scripts'\n",
    "APIMODEL_PATH = 'C:/Users/Sreesha/Documents/Tensorflow/models'\n",
    "ANNOTATION_PATH = WORKSPACE_PATH+'/annotations'\n",
    "IMAGE_PATH = WORKSPACE_PATH+'/images'\n",
    "MODEL_PATH = WORKSPACE_PATH+'/models'\n",
    "PRETRAINED_MODEL_PATH = WORKSPACE_PATH+'/pre-trained-models'\n",
    "CONFIG_PATH = MODEL_PATH+'/my_ssd_mobnet/pipeline.config'\n",
    "CHECKPOINT_PATH = MODEL_PATH+'/my_ssd_mobnet/'"
   ]
  },
  {
   "cell_type": "code",
   "execution_count": 2,
   "metadata": {},
   "outputs": [],
   "source": [
    "labels = [{'name':'1', 'id':1},\n",
    "          {'name':'2', 'id':2},\n",
    "          {'name':'3', 'id':3},\n",
    "          {'name':'4', 'id':4},\n",
    "          {'name':'5', 'id':5},\n",
    "          {'name':'6', 'id':6},\n",
    "          {'name':'7', 'id':7},\n",
    "          {'name':'8', 'id':8},\n",
    "          {'name':'9', 'id':9},\n",
    "          {'name':'a', 'id':10},\n",
    "          {'name':'b', 'id':11},\n",
    "          {'name':'c', 'id':12},\n",
    "          {'name':'d', 'id':13},\n",
    "          {'name':'e', 'id':14},\n",
    "          {'name':'f', 'id':15},\n",
    "          {'name':'g', 'id':16},\n",
    "          {'name':'h', 'id':17},\n",
    "          {'name':'i', 'id':18},\n",
    "          {'name':'j', 'id':19},\n",
    "          {'name':'k', 'id':20},\n",
    "          {'name':'l', 'id':21},\n",
    "          {'name':'m', 'id':22},\n",
    "          {'name':'n', 'id':23},\n",
    "          {'name':'o', 'id':24},\n",
    "          {'name':'p', 'id':25},\n",
    "          {'name':'q', 'id':26},\n",
    "          {'name':'r', 'id':27},\n",
    "          {'name':'s', 'id':28},\n",
    "          {'name':'t', 'id':29},\n",
    "          {'name':'u', 'id':30},\n",
    "          {'name':'v', 'id':31},\n",
    "          {'name':'w', 'id':32},\n",
    "          {'name':'x', 'id':33},\n",
    "          {'name':'y', 'id':34},\n",
    "          {'name':'z', 'id':35}]"
   ]
  },
  {
   "cell_type": "code",
   "execution_count": 3,
   "metadata": {},
   "outputs": [],
   "source": [
    "CUSTOM_MODEL_NAME = 'my_ssd_mobnet' "
   ]
  },
  {
   "cell_type": "code",
   "execution_count": 4,
   "metadata": {},
   "outputs": [],
   "source": [
    "import os\n",
    "import tensorflow as tf\n",
    "from object_detection.utils import config_util\n",
    "from object_detection.protos import pipeline_pb2\n",
    "from google.protobuf import text_format\n",
    "from object_detection.utils import label_map_util\n",
    "from object_detection.utils import visualization_utils as viz_utils\n",
    "from object_detection.builders import model_builder"
   ]
  },
  {
   "cell_type": "code",
   "execution_count": 5,
   "metadata": {},
   "outputs": [],
   "source": [
    "CONFIG_PATH = MODEL_PATH+'/'+CUSTOM_MODEL_NAME+'/pipeline.config'"
   ]
  },
  {
   "cell_type": "code",
   "execution_count": 6,
   "metadata": {},
   "outputs": [],
   "source": [
    "config = config_util.get_configs_from_pipeline_file(CONFIG_PATH)"
   ]
  },
  {
   "cell_type": "code",
   "execution_count": 7,
   "metadata": {},
   "outputs": [],
   "source": [
    "# Load pipeline config and build a detection model\n",
    "configs = config_util.get_configs_from_pipeline_file(CONFIG_PATH)\n",
    "detection_model = model_builder.build(model_config=configs['model'], is_training=False)\n",
    "\n",
    "# Restore checkpoint\n",
    "ckpt = tf.compat.v2.train.Checkpoint(model=detection_model)\n",
    "ckpt.restore(os.path.join(CHECKPOINT_PATH, 'ckpt-21')).expect_partial()\n",
    "\n",
    "@tf.function\n",
    "def detect_fn(image):\n",
    "    image, shapes = detection_model.preprocess(image)\n",
    "    prediction_dict = detection_model.predict(image, shapes)\n",
    "    detections = detection_model.postprocess(prediction_dict, shapes)\n",
    "    return detections"
   ]
  },
  {
   "cell_type": "code",
   "execution_count": 8,
   "metadata": {},
   "outputs": [],
   "source": [
    "import numpy as np"
   ]
  },
  {
   "cell_type": "code",
   "execution_count": 9,
   "metadata": {},
   "outputs": [],
   "source": [
    "category_index = label_map_util.create_category_index_from_labelmap(ANNOTATION_PATH+'/label_map.pbtxt')"
   ]
  },
  {
   "cell_type": "code",
   "execution_count": 10,
   "metadata": {},
   "outputs": [],
   "source": [
    "acc_of_each_sign = {'1':0,\n",
    "          '2':0,\n",
    "          '3':0,\n",
    "          '4':3,\n",
    "          '5':0,\n",
    "          '6':0,\n",
    "          '7':0,\n",
    "          '8':0,\n",
    "          '9':0,\n",
    "          'a':0,\n",
    "          'b':0,\n",
    "          'c':0,\n",
    "          'd':0,\n",
    "          'e':0,\n",
    "          'f':0,\n",
    "          'g':0,\n",
    "          'h':0,\n",
    "          'i':0,\n",
    "          'j':0,\n",
    "          'k':0,\n",
    "          'l':0,\n",
    "          'm':0,\n",
    "          'n':0,\n",
    "          'o':0,\n",
    "          'p':0,\n",
    "          'q':0,\n",
    "          'r':0,\n",
    "          's':0,\n",
    "          't':0,\n",
    "          'u':0,\n",
    "          'v':0,\n",
    "          'w':0,\n",
    "          'x':0,\n",
    "          'y':0,\n",
    "          'z':0\n",
    "         }"
   ]
  },
  {
   "cell_type": "code",
   "execution_count": 11,
   "metadata": {},
   "outputs": [
    {
     "name": "stdout",
     "output_type": "stream",
     "text": [
      "92.57142857142857\n",
      "1 100\n",
      "2 100\n",
      "3 100\n",
      "4 30\n",
      "5 100\n",
      "6 90\n",
      "7 100\n",
      "8 100\n",
      "9 100\n",
      "a 100\n",
      "b 100\n",
      "c 100\n",
      "d 100\n",
      "e 100\n",
      "f 100\n",
      "g 80\n",
      "h 100\n",
      "i 70\n",
      "j 100\n",
      "k 100\n",
      "l 60\n",
      "m 100\n",
      "n 80\n",
      "o 100\n",
      "p 100\n",
      "q 90\n",
      "r 90\n",
      "s 100\n",
      "t 100\n",
      "u 80\n",
      "v 100\n",
      "w 100\n",
      "x 100\n",
      "y 100\n",
      "z 100\n"
     ]
    }
   ],
   "source": [
    "from keras.preprocessing.image import img_to_array, load_img\n",
    "paths = ['C:/Users/Sreesha/Documents/Capstone project - Sign language/0Indian sign language trial 3/Tensorflow/workspace/images/test']\n",
    "actual_count = 0\n",
    "detected_count = 0\n",
    "for path in paths:\n",
    "    for root, directories, filenames in os.walk(path):\n",
    "        for filename in filenames:\n",
    "            if filename.endswith(\".jpg\"):\n",
    "                fullpath = os.path.join(root, filename)\n",
    "                actual = filename[0] \n",
    "                frame = load_img(fullpath)\n",
    "                image_np = np.array(frame)\n",
    "                input_tensor = tf.convert_to_tensor(np.expand_dims(image_np, 0), dtype=tf.float32)\n",
    "                detections = detect_fn(input_tensor)\n",
    "    \n",
    "                num_detections = int(detections.pop('num_detections'))\n",
    "                detections = {key: value[0, :num_detections].numpy()\n",
    "                              for key, value in detections.items()}\n",
    "                detections['num_detections'] = num_detections\n",
    "\n",
    "                # detection_classes should be ints.\n",
    "                detections['detection_classes'] = detections['detection_classes'].astype(np.int64)\n",
    "    \n",
    "                label_id_offset = 1\n",
    "                image_np_with_detections = image_np.copy()\n",
    "                detected_sign = (category_index[detections['detection_classes'][0]+label_id_offset]).get('name')\n",
    "                actual_count += 1\n",
    "                if actual == detected_sign:\n",
    "                    detected_count +=1\n",
    "                    acc_of_each_sign[actual] += 1\n",
    "                    \n",
    "                \n",
    "print((detected_count*100) / actual_count)\n",
    "\n",
    "for i in acc_of_each_sign.keys():\n",
    "    print(i,acc_of_each_sign[i]*10)"
   ]
  },
  {
   "cell_type": "code",
   "execution_count": null,
   "metadata": {},
   "outputs": [],
   "source": []
  }
 ],
 "metadata": {
  "kernelspec": {
   "display_name": "Python 3 (ipykernel)",
   "language": "python",
   "name": "python3"
  },
  "language_info": {
   "codemirror_mode": {
    "name": "ipython",
    "version": 3
   },
   "file_extension": ".py",
   "mimetype": "text/x-python",
   "name": "python",
   "nbconvert_exporter": "python",
   "pygments_lexer": "ipython3",
   "version": "3.9.12"
  }
 },
 "nbformat": 4,
 "nbformat_minor": 2
}
