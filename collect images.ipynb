{
 "cells": [
  {
   "cell_type": "code",
   "execution_count": 1,
   "metadata": {},
   "outputs": [],
   "source": [
    "import cv2\n",
    "import os\n",
    "import time\n",
    "import uuid\n",
    "import numpy"
   ]
  },
  {
   "cell_type": "code",
   "execution_count": 2,
   "metadata": {},
   "outputs": [],
   "source": [
    "IMAGES_PATH = 'Tensorflow/workspace/images/train'"
   ]
  },
  {
   "cell_type": "code",
   "execution_count": 74,
   "metadata": {},
   "outputs": [],
   "source": [
    "labels = ['a','b','c','d']\n",
    "number_imgs = 50"
   ]
  },
  {
   "cell_type": "code",
   "execution_count": 75,
   "metadata": {},
   "outputs": [
    {
     "name": "stdout",
     "output_type": "stream",
     "text": [
      "Collecting images for z\n"
     ]
    }
   ],
   "source": [
    "for label in labels:\n",
    "    cap = cv2.VideoCapture(0)\n",
    "    print('Collecting images for {}'.format(label))\n",
    "    time.sleep(5)\n",
    "    for imgnum in range(number_imgs):\n",
    "        readSucsess, sourceImage = cap.read()\n",
    "        min_YCrCb = numpy.array([0,133,77],numpy.uint8)\n",
    "        max_YCrCb = numpy.array([235,173,127], numpy.uint8)\n",
    "        imageYCrCb = cv2.cvtColor(sourceImage, cv2.COLOR_BGR2YCR_CB)\n",
    "        #imageYCrCb = cv2.GaussianBlur(imageYCrCb, (5, 5), 0)\n",
    "        skinRegion = cv2.inRange(imageYCrCb, min_YCrCb, max_YCrCb)\n",
    "        #kernel = numpy.ones((3,3),numpy.uint8)\n",
    "        #skinRegion = cv2.dilate(skinRegion,kernel,iterations = 2) # when there is less light\n",
    "        contours, hierarchy = cv2.findContours(skinRegion, cv2.RETR_TREE, cv2.CHAIN_APPROX_SIMPLE)\n",
    "        stencil = numpy.zeros(sourceImage.shape).astype(sourceImage.dtype)\n",
    "        color = [255, 255, 255]\n",
    "        cv2.fillPoly(stencil, contours, color)\n",
    "        handTrainImage = cv2.bitwise_and(sourceImage, stencil)\n",
    "        cv2.imshow('BG removed', handTrainImage)\n",
    "        \n",
    "        imgname1 = os.path.join(IMAGES_PATH, label+'.'+'{}.jpg'.format(str(uuid.uuid1())))\n",
    "        cv2.imwrite(imgname1, handTrainImage)\n",
    "        \n",
    "        time.sleep(2)\n",
    "        \n",
    "        if cv2.waitKey(1) & 0xFF == ord('q'):\n",
    "            break\n",
    "    cap.release()\n",
    "    cv2.destroyAllWindows()"
   ]
  },
  {
   "cell_type": "code",
   "execution_count": null,
   "metadata": {},
   "outputs": [],
   "source": []
  }
 ],
 "metadata": {
  "kernelspec": {
   "display_name": "Python 3 (ipykernel)",
   "language": "python",
   "name": "python3"
  },
  "language_info": {
   "codemirror_mode": {
    "name": "ipython",
    "version": 3
   },
   "file_extension": ".py",
   "mimetype": "text/x-python",
   "name": "python",
   "nbconvert_exporter": "python",
   "pygments_lexer": "ipython3",
   "version": "3.9.12"
  }
 },
 "nbformat": 4,
 "nbformat_minor": 4
}
